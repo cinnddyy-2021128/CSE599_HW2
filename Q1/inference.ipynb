{
 "cells": [
  {
   "cell_type": "markdown",
   "id": "169a261d",
   "metadata": {},
   "source": [
    "# Inference notebook (Part 1)\n",
    "Load a saved checkpoint and let the model autoregressively generate text.\n",
    "Replace `ckpt_path` with your own path, tweak the prompt, run the cells."
   ]
  },
  {
   "cell_type": "code",
   "execution_count": 4,
   "id": "2f960faf",
   "metadata": {},
   "outputs": [
    {
     "name": "stdout",
     "output_type": "stream",
     "text": [
      "Running on cpu\n"
     ]
    }
   ],
   "source": [
    "from pathlib import Path\n",
    "import torch, json\n",
    "from model import GPT, GPTConfig\n",
    "from train import CharTokenizer  # this is the helper used in train.py\n",
    "from torch.nn import functional as F\n",
    "\n",
    "\n",
    "device = 'cuda' if torch.cuda.is_available() else 'cpu'\n",
    "print('Running on', device)"
   ]
  },
  {
   "cell_type": "code",
   "execution_count": 5,
   "id": "9b47a4c4",
   "metadata": {},
   "outputs": [],
   "source": [
    "@torch.no_grad()\n",
    "def sample(model, idx, max_new, block_size, temperature=0, top_k=1):\n",
    "    pad_id = model.config.vocab_size - 1  # or set this to your actual pad_id\n",
    "    for _ in range(max_new):\n",
    "        idx_cond = idx[:, -block_size:]\n",
    "        logits   = model(idx_cond)[:, -1, :]\n",
    "\n",
    "        # Prevent sampling <pad> token\n",
    "        logits[:, pad_id] = -float('Inf')\n",
    "\n",
    "        if temperature == 0:\n",
    "            next_id = logits.argmax(dim=-1, keepdim=True)\n",
    "        else:\n",
    "            logits = logits / temperature\n",
    "            if top_k > 0:\n",
    "                v, _ = torch.topk(logits, top_k)\n",
    "                logits[logits < v[..., -1, None]] = -float('Inf')\n",
    "            probs   = torch.softmax(logits, dim=-1)\n",
    "            next_id = torch.multinomial(probs, num_samples=1)\n",
    "\n",
    "        idx = torch.cat((idx, next_id), dim=1)\n",
    "    return idx"
   ]
  },
  {
   "cell_type": "code",
   "execution_count": 6,
   "id": "fd3cf0fb",
   "metadata": {},
   "outputs": [
    {
     "name": "stdout",
     "output_type": "stream",
     "text": [
      "number of parameters: 0.01M\n",
      "Model & tokenizer loaded!\n"
     ]
    },
    {
     "name": "stderr",
     "output_type": "stream",
     "text": [
      "/var/folders/nb/rtr0nc7x48l33qs0l0j89fz00000gn/T/ipykernel_18649/2864014494.py:3: FutureWarning: You are using `torch.load` with `weights_only=False` (the current default value), which uses the default pickle module implicitly. It is possible to construct malicious pickle data which will execute arbitrary code during unpickling (See https://github.com/pytorch/pytorch/blob/main/SECURITY.md#untrusted-models for more details). In a future release, the default value for `weights_only` will be flipped to `True`. This limits the functions that could be executed during unpickling. Arbitrary objects will no longer be allowed to be loaded via this mode unless they are explicitly allowlisted by the user via `torch.serialization.add_safe_globals`. We recommend you start setting `weights_only=True` for any use case where you don't have full control of the loaded file. Please open an issue on GitHub for any issues related to this experimental feature.\n",
      "  ckpt = torch.load(ckpt_path, map_location=device)\n"
     ]
    }
   ],
   "source": [
    "# -------- Load checkpoint --------\n",
    "ckpt_path = Path('logs/ckpt_0002000.pt')  # ← change me\n",
    "ckpt = torch.load(ckpt_path, map_location=device)\n",
    "\n",
    "conf = GPTConfig(**ckpt['gpt_conf'])\n",
    "model = GPT(conf).to(device)\n",
    "model.load_state_dict(ckpt['model'])\n",
    "model.eval()\n",
    "\n",
    "tok = CharTokenizer('')\n",
    "tok.stoi = ckpt['tok']\n",
    "tok.itos = {i:c for c,i in tok.stoi.items()}\n",
    "print('Model & tokenizer loaded!')\n",
    "\n"
   ]
  },
  {
   "cell_type": "code",
   "execution_count": 7,
   "id": "a3f27f9b",
   "metadata": {},
   "outputs": [
    {
     "name": "stdout",
     "output_type": "stream",
     "text": [
      "I love machine learning\n"
     ]
    }
   ],
   "source": [
    "# -------- Generate --------\n",
    "prompt = 'I lo'\n",
    "ids = torch.tensor([tok.encode(prompt)], dtype=torch.long, device=device)\n",
    "\n",
    "max_new = 23-len(prompt)  # generate 20 new tokens\n",
    "out = sample(model, ids, max_new=max_new, block_size=conf.block_size, temperature = 0, top_k = 0)\n",
    "print(tok.decode(out[0].tolist()))"
   ]
  }
 ],
 "metadata": {
  "kernelspec": {
   "display_name": "current",
   "language": "python",
   "name": "python3"
  },
  "language_info": {
   "codemirror_mode": {
    "name": "ipython",
    "version": 3
   },
   "file_extension": ".py",
   "mimetype": "text/x-python",
   "name": "python",
   "nbconvert_exporter": "python",
   "pygments_lexer": "ipython3",
   "version": "3.13.2"
  }
 },
 "nbformat": 4,
 "nbformat_minor": 5
}
