{
 "cells": [
  {
   "cell_type": "code",
   "execution_count": 1,
   "id": "ce7f12d0",
   "metadata": {},
   "outputs": [
    {
     "name": "stdout",
     "output_type": "stream",
     "text": [
      "number of parameters: 0.01M\n",
      "num decayed parameter tensors: 6, with 13,472 parameters\n",
      "num non-decayed parameter tensors: 10, with 480 parameters\n",
      "using fused AdamW: False\n",
      "[    50/2000] loss 1.1563\n",
      "[   100/2000] loss 0.3587\n",
      "[   150/2000] loss 0.0957\n",
      "[   200/2000] loss 0.0274\n",
      "[   250/2000] loss 0.0083\n",
      "[   300/2000] loss 0.0026\n",
      "[   350/2000] loss 0.0008\n",
      "[   400/2000] loss 0.0002\n",
      "[   450/2000] loss 0.0001\n",
      "[   500/2000] loss 0.0000\n",
      "⇪ saved logs/ckpt_0000500.pt\n",
      "[   550/2000] loss 0.0000\n",
      "[   600/2000] loss 0.0000\n",
      "[   650/2000] loss 0.0000\n",
      "[   700/2000] loss 0.0000\n",
      "[   750/2000] loss 0.0000\n",
      "[   800/2000] loss 0.0000\n",
      "[   850/2000] loss 0.0000\n",
      "[   900/2000] loss 0.0000\n",
      "[   950/2000] loss 0.0000\n",
      "[  1000/2000] loss 0.0000\n",
      "⇪ saved logs/ckpt_0001000.pt\n",
      "[  1050/2000] loss 0.0000\n",
      "[  1100/2000] loss 0.0000\n",
      "[  1150/2000] loss 0.0000\n",
      "[  1200/2000] loss 0.0000\n",
      "[  1250/2000] loss 0.0000\n",
      "[  1300/2000] loss 0.0000\n",
      "[  1350/2000] loss 0.0000\n",
      "[  1400/2000] loss 0.0000\n",
      "[  1450/2000] loss 0.0000\n",
      "[  1500/2000] loss 0.0000\n",
      "⇪ saved logs/ckpt_0001500.pt\n",
      "[  1550/2000] loss 0.0000\n",
      "[  1600/2000] loss 0.0000\n",
      "[  1650/2000] loss 0.0000\n",
      "[  1700/2000] loss 0.0000\n",
      "[  1750/2000] loss 0.0000\n",
      "[  1800/2000] loss 0.0000\n",
      "[  1850/2000] loss 0.0000\n",
      "[  1900/2000] loss 0.0000\n",
      "[  1950/2000] loss 0.0000\n",
      "[  2000/2000] loss 0.0000\n",
      "⇪ saved logs/ckpt_0002000.pt\n",
      "Done in 0.1 min. Final loss 0.0000\n"
     ]
    }
   ],
   "source": [
    "import importlib, sys, train    \n",
    "\n",
    "sys.argv = [\n",
    "    'train.py',\n",
    "    '--data_path', 'tiny.txt',\n",
    "    '--block_size','22',\n",
    "    '--batch_size','1',\n",
    "    '--n_layer','1','--n_head','2','--n_embd','32',\n",
    "    '--steps','2000','--save_every','500','--weight_decay','0', '--lr', '0.001'\n",
    "]\n",
    "\n",
    "importlib.reload(train)   # re-parses the spoofed argv\n",
    "train.main()              # launches training loop in-cell\n"
   ]
  }
 ],
 "metadata": {
  "kernelspec": {
   "display_name": "current",
   "language": "python",
   "name": "python3"
  },
  "language_info": {
   "codemirror_mode": {
    "name": "ipython",
    "version": 3
   },
   "file_extension": ".py",
   "mimetype": "text/x-python",
   "name": "python",
   "nbconvert_exporter": "python",
   "pygments_lexer": "ipython3",
   "version": "3.13.2"
  }
 },
 "nbformat": 4,
 "nbformat_minor": 5
}
